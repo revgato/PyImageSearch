{
 "nbformat": 4,
 "nbformat_minor": 0,
 "metadata": {
  "colab": {
   "name": "cifar10_checkpoint_best.ipynb",
   "provenance": [],
   "mount_file_id": "1Mrl1XG64gt4XeitOychX7v7meaxhsAhq",
   "authorship_tag": "ABX9TyMV98KeG4vdyA/RrkEttH6z"
  },
  "kernelspec": {
   "name": "python3",
   "display_name": "Python 3"
  },
  "language_info": {
   "name": "python"
  },
  "accelerator": "GPU",
  "gpuClass": "standard"
 },
 "cells": [
  {
   "cell_type": "code",
   "execution_count": 1,
   "metadata": {
    "colab": {
     "base_uri": "https://localhost:8080/"
    },
    "executionInfo": {
     "elapsed": 19,
     "status": "ok",
     "timestamp": 1656698658531,
     "user": {
      "displayName": "Hoang Bao",
      "userId": "06243142831558434309"
     },
     "user_tz": -420
    },
    "id": "0nSWjXnBfmjC",
    "outputId": "7014d5ee-0ed4-42ad-c3d3-3e3951aebc19",
    "pycharm": {
     "name": "#%%\n"
    }
   },
   "outputs": [
    {
     "output_type": "stream",
     "name": "stdout",
     "text": [
      "/content/drive/Othercomputers/My Laptop/pyimagesearch\n"
     ]
    }
   ],
   "source": [
    "cd /content/drive/MyDrive/pyimagesearch"
   ]
  },
  {
   "cell_type": "code",
   "execution_count": 2,
   "metadata": {
    "colab": {
     "base_uri": "https://localhost:8080/"
    },
    "executionInfo": {
     "elapsed": 14,
     "status": "ok",
     "timestamp": 1656698660323,
     "user": {
      "displayName": "Hoang Bao",
      "userId": "06243142831558434309"
     },
     "user_tz": -420
    },
    "id": "Dl9EMQPJmVPa",
    "outputId": "2864234b-556e-48f8-a898-ef5c500ae48f",
    "pycharm": {
     "name": "#%%\n"
    }
   },
   "outputs": [
    {
     "output_type": "stream",
     "name": "stdout",
     "text": [
      "mkdir: cannot create directory ‘Chapter18’: File exists\n"
     ]
    }
   ],
   "source": [
    "mkdir Chapter18"
   ]
  },
  {
   "cell_type": "code",
   "execution_count": 3,
   "metadata": {
    "colab": {
     "base_uri": "https://localhost:8080/"
    },
    "executionInfo": {
     "elapsed": 11,
     "status": "ok",
     "timestamp": 1656698662058,
     "user": {
      "displayName": "Hoang Bao",
      "userId": "06243142831558434309"
     },
     "user_tz": -420
    },
    "id": "TaR_fOcTmjKA",
    "outputId": "200bb73f-d3d1-4114-8562-5cb472e02ed4",
    "pycharm": {
     "name": "#%%\n"
    }
   },
   "outputs": [
    {
     "output_type": "stream",
     "name": "stdout",
     "text": [
      "/content/drive/Othercomputers/My Laptop/pyimagesearch/Chapter18\n"
     ]
    }
   ],
   "source": [
    "cd Chapter18"
   ]
  },
  {
   "cell_type": "code",
   "execution_count": 4,
   "metadata": {
    "executionInfo": {
     "elapsed": 664,
     "status": "ok",
     "timestamp": 1656698666623,
     "user": {
      "displayName": "Hoang Bao",
      "userId": "06243142831558434309"
     },
     "user_tz": -420
    },
    "id": "o3R83CzvmmwI",
    "pycharm": {
     "name": "#%%\n"
    }
   },
   "outputs": [],
   "source": [
    "mkdir weight/best"
   ]
  },
  {
   "cell_type": "code",
   "execution_count": 5,
   "metadata": {
    "colab": {
     "base_uri": "https://localhost:8080/"
    },
    "executionInfo": {
     "elapsed": 11,
     "status": "ok",
     "timestamp": 1656698669289,
     "user": {
      "displayName": "Hoang Bao",
      "userId": "06243142831558434309"
     },
     "user_tz": -420
    },
    "id": "LAYu74EolqEk",
    "outputId": "e3a404ef-d2ca-4ce2-9bcb-a870131c1c97",
    "pycharm": {
     "name": "#%%\n"
    }
   },
   "outputs": [
    {
     "output_type": "stream",
     "name": "stdout",
     "text": [
      "Fri Jul  1 18:04:28 2022       \n",
      "+-----------------------------------------------------------------------------+\n",
      "| NVIDIA-SMI 460.32.03    Driver Version: 460.32.03    CUDA Version: 11.2     |\n",
      "|-------------------------------+----------------------+----------------------+\n",
      "| GPU  Name        Persistence-M| Bus-Id        Disp.A | Volatile Uncorr. ECC |\n",
      "| Fan  Temp  Perf  Pwr:Usage/Cap|         Memory-Usage | GPU-Util  Compute M. |\n",
      "|                               |                      |               MIG M. |\n",
      "|===============================+======================+======================|\n",
      "|   0  Tesla T4            Off  | 00000000:00:04.0 Off |                    0 |\n",
      "| N/A   39C    P8     9W /  70W |      0MiB / 15109MiB |      0%      Default |\n",
      "|                               |                      |                  N/A |\n",
      "+-------------------------------+----------------------+----------------------+\n",
      "                                                                               \n",
      "+-----------------------------------------------------------------------------+\n",
      "| Processes:                                                                  |\n",
      "|  GPU   GI   CI        PID   Type   Process name                  GPU Memory |\n",
      "|        ID   ID                                                   Usage      |\n",
      "|=============================================================================|\n",
      "|  No running processes found                                                 |\n",
      "+-----------------------------------------------------------------------------+\n"
     ]
    }
   ],
   "source": [
    "!nvidia-smi"
   ]
  },
  {
   "cell_type": "markdown",
   "metadata": {
    "id": "4gkSdIVRe6qm",
    "pycharm": {
     "name": "#%% md\n"
    }
   },
   "source": [
    "#### Import the necessary packages"
   ]
  },
  {
   "cell_type": "code",
   "execution_count": 6,
   "metadata": {
    "id": "9hUyvb2de-ir",
    "executionInfo": {
     "status": "ok",
     "timestamp": 1656698688710,
     "user_tz": -420,
     "elapsed": 6920,
     "user": {
      "displayName": "Hoang Bao",
      "userId": "06243142831558434309"
     }
    },
    "pycharm": {
     "name": "#%%\n"
    }
   },
   "outputs": [],
   "source": [
    "import sys\n",
    "sys.path.append(\"..\")\n",
    "from sklearn.preprocessing import LabelBinarizer\n",
    "from nn.conv.minivggnet import MiniVGGNet\n",
    "from tensorflow.keras.callbacks import ModelCheckpoint\n",
    "from tensorflow.keras.optimizers import SGD\n",
    "from tensorflow.keras.datasets import cifar10\n",
    "import os"
   ]
  },
  {
   "cell_type": "markdown",
   "metadata": {
    "id": "5JgxQhFBfvJs",
    "pycharm": {
     "name": "#%% md\n"
    }
   },
   "source": [
    "#### Construct the dictionary instead of argument parse"
   ]
  },
  {
   "cell_type": "code",
   "execution_count": 7,
   "metadata": {
    "id": "sIhFkniYg-0d",
    "executionInfo": {
     "status": "ok",
     "timestamp": 1656698691016,
     "user_tz": -420,
     "elapsed": 6,
     "user": {
      "displayName": "Hoang Bao",
      "userId": "06243142831558434309"
     }
    },
    "pycharm": {
     "name": "#%%\n"
    }
   },
   "outputs": [],
   "source": [
    "args = {\n",
    "    'weights': 'weight/best/cifar10_best_weights.hdf5'\n",
    "}"
   ]
  },
  {
   "cell_type": "markdown",
   "metadata": {
    "id": "3B_AV78nhaXM",
    "pycharm": {
     "name": "#%% md\n"
    }
   },
   "source": [
    "#### Load the training and testing data, then scale it into the range [0, 1]"
   ]
  },
  {
   "cell_type": "code",
   "execution_count": 8,
   "metadata": {
    "colab": {
     "base_uri": "https://localhost:8080/"
    },
    "executionInfo": {
     "elapsed": 16483,
     "status": "ok",
     "timestamp": 1656698743045,
     "user": {
      "displayName": "Hoang Bao",
      "userId": "06243142831558434309"
     },
     "user_tz": -420
    },
    "id": "ya2xyNb_h1ay",
    "outputId": "b0f767af-c466-4237-b050-d8ba9ad52ad9",
    "pycharm": {
     "name": "#%%\n"
    }
   },
   "outputs": [
    {
     "output_type": "stream",
     "name": "stdout",
     "text": [
      "[INFO] loading CIFAR-10 data...\n",
      "Downloading data from https://www.cs.toronto.edu/~kriz/cifar-10-python.tar.gz\n",
      "170500096/170498071 [==============================] - 13s 0us/step\n",
      "170508288/170498071 [==============================] - 13s 0us/step\n"
     ]
    }
   ],
   "source": [
    "print(\"[INFO] loading CIFAR-10 data...\")\n",
    "((trainX, trainY), (testX, testY)) = cifar10.load_data()\n",
    "trainX = trainX.astype('float')/255.0\n",
    "testX = testX.astype('float')/255.0"
   ]
  },
  {
   "cell_type": "markdown",
   "metadata": {
    "id": "SxEO1QMViIkt",
    "pycharm": {
     "name": "#%% md\n"
    }
   },
   "source": [
    "#### Convert the label names for the CIFAR-10 dataset"
   ]
  },
  {
   "cell_type": "code",
   "execution_count": 9,
   "metadata": {
    "id": "F-02kYI2iUR5",
    "executionInfo": {
     "status": "ok",
     "timestamp": 1656698743047,
     "user_tz": -420,
     "elapsed": 13,
     "user": {
      "displayName": "Hoang Bao",
      "userId": "06243142831558434309"
     }
    },
    "pycharm": {
     "name": "#%%\n"
    }
   },
   "outputs": [],
   "source": [
    "lb = LabelBinarizer()\n",
    "trainY = lb.fit_transform(trainY)\n",
    "testY = lb.fit_transform(testY)"
   ]
  },
  {
   "cell_type": "markdown",
   "metadata": {
    "id": "B0bM8BKfiyGj",
    "pycharm": {
     "name": "#%% md\n"
    }
   },
   "source": [
    "### Initialize the SGD optimizer along with the MiniVGGNet architecture"
   ]
  },
  {
   "cell_type": "code",
   "execution_count": 10,
   "metadata": {
    "colab": {
     "base_uri": "https://localhost:8080/"
    },
    "executionInfo": {
     "elapsed": 4978,
     "status": "ok",
     "timestamp": 1656698754938,
     "user": {
      "displayName": "Hoang Bao",
      "userId": "06243142831558434309"
     },
     "user_tz": -420
    },
    "id": "D42JH-tdi71S",
    "outputId": "7527b607-d845-496e-ddda-33af39835365",
    "pycharm": {
     "name": "#%%\n"
    }
   },
   "outputs": [
    {
     "output_type": "stream",
     "name": "stdout",
     "text": [
      "[INFO] compiling model...\n"
     ]
    },
    {
     "output_type": "stream",
     "name": "stderr",
     "text": [
      "/usr/local/lib/python3.7/dist-packages/keras/optimizer_v2/gradient_descent.py:102: UserWarning: The `lr` argument is deprecated, use `learning_rate` instead.\n",
      "  super(SGD, self).__init__(name, **kwargs)\n"
     ]
    }
   ],
   "source": [
    "print(\"[INFO] compiling model...\")\n",
    "opt = SGD(lr=0.01, decay = 0.01/40, momentum = 0.9, nesterov=True)\n",
    "model = MiniVGGNet.build(width=32, height=32, depth=3, classes=10)\n",
    "model.compile(loss='categorical_crossentropy', optimizer=opt,\n",
    "              metrics=['accuracy'])"
   ]
  },
  {
   "cell_type": "markdown",
   "source": [
    "### Construct the callback to save only the *best* model to disk based on the validation loss"
   ],
   "metadata": {
    "id": "BJFxii2J1rWg",
    "pycharm": {
     "name": "#%% md\n"
    }
   }
  },
  {
   "cell_type": "code",
   "source": [
    "checkpoint = ModelCheckpoint(args['weights'], monitor='val_loss', mode='min',\n",
    "                             save_best_only=True, verbose=1)\n",
    "callbacks = [checkpoint]"
   ],
   "metadata": {
    "id": "Y9I0mdH91zsv",
    "executionInfo": {
     "status": "ok",
     "timestamp": 1656698796252,
     "user_tz": -420,
     "elapsed": 1005,
     "user": {
      "displayName": "Hoang Bao",
      "userId": "06243142831558434309"
     }
    },
    "pycharm": {
     "name": "#%%\n"
    }
   },
   "execution_count": 11,
   "outputs": []
  },
  {
   "cell_type": "markdown",
   "source": [
    "#### Train the network"
   ],
   "metadata": {
    "id": "WUfWNFuC3_1f",
    "pycharm": {
     "name": "#%% md\n"
    }
   }
  },
  {
   "cell_type": "code",
   "execution_count": 12,
   "metadata": {
    "id": "IrM_8sK-kUmU",
    "colab": {
     "base_uri": "https://localhost:8080/"
    },
    "executionInfo": {
     "status": "ok",
     "timestamp": 1656699130954,
     "user_tz": -420,
     "elapsed": 44122,
     "user": {
      "displayName": "Hoang Bao",
      "userId": "06243142831558434309"
     }
    },
    "outputId": "e8fb1d31-0045-451f-8cc9-11c87ee5fe8c",
    "pycharm": {
     "name": "#%%\n"
    }
   },
   "outputs": [
    {
     "output_type": "stream",
     "name": "stdout",
     "text": [
      "782/782 - 6s - loss: 0.2499 - accuracy: 0.9093 - val_loss: 0.5527 - val_accuracy: 0.8243 - 6s/epoch - 8ms/step\n"
     ]
    },
    {
     "output_type": "execute_result",
     "data": {
      "text/plain": [
       "<keras.callbacks.History at 0x7f396e07ead0>"
      ]
     },
     "metadata": {},
     "execution_count": 12
    }
   ],
   "source": [
    "# train the network\n",
    "print('[INFO] training network')\n",
    "model.fit(trainX, trainY, validation_data=(testX, testY),\n",
    "          batch_size=64, epochs=40, callbacks = callbacks, verbose=2)\n"
   ]
  },
  {
   "cell_type": "code",
   "source": [],
   "metadata": {
    "id": "cjX6UjP44HOi",
    "executionInfo": {
     "status": "ok",
     "timestamp": 1656699130956,
     "user_tz": -420,
     "elapsed": 20,
     "user": {
      "displayName": "Hoang Bao",
      "userId": "06243142831558434309"
     }
    },
    "pycharm": {
     "name": "#%%\n"
    }
   },
   "execution_count": 12,
   "outputs": []
  }
 ]
}
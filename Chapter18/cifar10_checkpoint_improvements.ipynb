{
 "nbformat": 4,
 "nbformat_minor": 0,
 "metadata": {
  "colab": {
   "name": "cifar10_checkpoint_improvements.ipynb",
   "provenance": [],
   "mount_file_id": "1tVks5IC1qDT_EwxaEcINx2sZpTzr64QA",
   "authorship_tag": "ABX9TyN90qIJkr5eY1aXap4JHfBg"
  },
  "kernelspec": {
   "name": "python3",
   "display_name": "Python 3"
  },
  "language_info": {
   "name": "python"
  },
  "accelerator": "GPU",
  "gpuClass": "standard"
 },
 "cells": [
  {
   "cell_type": "code",
   "execution_count": 7,
   "metadata": {
    "colab": {
     "base_uri": "https://localhost:8080/"
    },
    "executionInfo": {
     "elapsed": 1365,
     "status": "ok",
     "timestamp": 1656697217188,
     "user": {
      "displayName": "Hoang Bao",
      "userId": "06243142831558434309"
     },
     "user_tz": -420
    },
    "id": "0nSWjXnBfmjC",
    "outputId": "3f87e47b-a2dc-468b-a9d5-1ab4e5b35f80",
    "pycharm": {
     "name": "#%%\n"
    }
   },
   "outputs": [
    {
     "output_type": "stream",
     "name": "stdout",
     "text": [
      "/content/drive/Othercomputers/My Laptop/pyimagesearch\n"
     ]
    }
   ],
   "source": [
    "cd /content/drive/MyDrive/pyimagesearch"
   ]
  },
  {
   "cell_type": "code",
   "execution_count": 8,
   "metadata": {
    "colab": {
     "base_uri": "https://localhost:8080/"
    },
    "executionInfo": {
     "elapsed": 1432,
     "status": "ok",
     "timestamp": 1656697218610,
     "user": {
      "displayName": "Hoang Bao",
      "userId": "06243142831558434309"
     },
     "user_tz": -420
    },
    "id": "Dl9EMQPJmVPa",
    "outputId": "888d226d-5ece-4760-f78c-3ecf22417bdb",
    "pycharm": {
     "name": "#%%\n"
    }
   },
   "outputs": [
    {
     "output_type": "stream",
     "name": "stdout",
     "text": [
      "mkdir: cannot create directory ‘Chapter18’: File exists\n"
     ]
    }
   ],
   "source": [
    "mkdir Chapter18"
   ]
  },
  {
   "cell_type": "code",
   "execution_count": 9,
   "metadata": {
    "colab": {
     "base_uri": "https://localhost:8080/"
    },
    "executionInfo": {
     "elapsed": 8,
     "status": "ok",
     "timestamp": 1656697218612,
     "user": {
      "displayName": "Hoang Bao",
      "userId": "06243142831558434309"
     },
     "user_tz": -420
    },
    "id": "TaR_fOcTmjKA",
    "outputId": "9fcfe843-f841-4e06-81cd-b370a9e45421",
    "pycharm": {
     "name": "#%%\n"
    }
   },
   "outputs": [
    {
     "output_type": "stream",
     "name": "stdout",
     "text": [
      "/content/drive/Othercomputers/My Laptop/pyimagesearch/Chapter18\n"
     ]
    }
   ],
   "source": [
    "cd Chapter18"
   ]
  },
  {
   "cell_type": "code",
   "execution_count": 19,
   "metadata": {
    "executionInfo": {
     "elapsed": 1412,
     "status": "ok",
     "timestamp": 1656697418842,
     "user": {
      "displayName": "Hoang Bao",
      "userId": "06243142831558434309"
     },
     "user_tz": -420
    },
    "id": "o3R83CzvmmwI",
    "pycharm": {
     "name": "#%%\n"
    }
   },
   "outputs": [],
   "source": [
    "mkdir weight/improvement"
   ]
  },
  {
   "cell_type": "code",
   "execution_count": 11,
   "metadata": {
    "colab": {
     "base_uri": "https://localhost:8080/"
    },
    "executionInfo": {
     "elapsed": 9,
     "status": "ok",
     "timestamp": 1656697219276,
     "user": {
      "displayName": "Hoang Bao",
      "userId": "06243142831558434309"
     },
     "user_tz": -420
    },
    "id": "LAYu74EolqEk",
    "outputId": "ff5f22d0-b130-4a90-d28a-c351fe5f0607",
    "pycharm": {
     "name": "#%%\n"
    }
   },
   "outputs": [
    {
     "output_type": "stream",
     "name": "stdout",
     "text": [
      "Fri Jul  1 17:40:18 2022       \n",
      "+-----------------------------------------------------------------------------+\n",
      "| NVIDIA-SMI 460.32.03    Driver Version: 460.32.03    CUDA Version: 11.2     |\n",
      "|-------------------------------+----------------------+----------------------+\n",
      "| GPU  Name        Persistence-M| Bus-Id        Disp.A | Volatile Uncorr. ECC |\n",
      "| Fan  Temp  Perf  Pwr:Usage/Cap|         Memory-Usage | GPU-Util  Compute M. |\n",
      "|                               |                      |               MIG M. |\n",
      "|===============================+======================+======================|\n",
      "|   0  Tesla T4            Off  | 00000000:00:04.0 Off |                    0 |\n",
      "| N/A   38C    P8     9W /  70W |      0MiB / 15109MiB |      0%      Default |\n",
      "|                               |                      |                  N/A |\n",
      "+-------------------------------+----------------------+----------------------+\n",
      "                                                                               \n",
      "+-----------------------------------------------------------------------------+\n",
      "| Processes:                                                                  |\n",
      "|  GPU   GI   CI        PID   Type   Process name                  GPU Memory |\n",
      "|        ID   ID                                                   Usage      |\n",
      "|=============================================================================|\n",
      "|  No running processes found                                                 |\n",
      "+-----------------------------------------------------------------------------+\n"
     ]
    }
   ],
   "source": [
    "!nvidia-smi"
   ]
  },
  {
   "cell_type": "markdown",
   "metadata": {
    "id": "4gkSdIVRe6qm",
    "pycharm": {
     "name": "#%% md\n"
    }
   },
   "source": [
    "#### Import the necessary packages"
   ]
  },
  {
   "cell_type": "code",
   "execution_count": 12,
   "metadata": {
    "id": "9hUyvb2de-ir",
    "executionInfo": {
     "status": "ok",
     "timestamp": 1656697230893,
     "user_tz": -420,
     "elapsed": 11622,
     "user": {
      "displayName": "Hoang Bao",
      "userId": "06243142831558434309"
     }
    },
    "pycharm": {
     "name": "#%%\n"
    }
   },
   "outputs": [],
   "source": [
    "import sys\n",
    "sys.path.append(\"..\")\n",
    "from sklearn.preprocessing import LabelBinarizer\n",
    "from nn.conv.minivggnet import MiniVGGNet\n",
    "from tensorflow.keras.callbacks import ModelCheckpoint\n",
    "from tensorflow.keras.optimizers import SGD\n",
    "from tensorflow.keras.datasets import cifar10\n",
    "import os"
   ]
  },
  {
   "cell_type": "markdown",
   "metadata": {
    "id": "5JgxQhFBfvJs",
    "pycharm": {
     "name": "#%% md\n"
    }
   },
   "source": [
    "#### Construct the dictionary instead of argument parse"
   ]
  },
  {
   "cell_type": "code",
   "execution_count": 13,
   "metadata": {
    "id": "sIhFkniYg-0d",
    "executionInfo": {
     "status": "ok",
     "timestamp": 1656697230894,
     "user_tz": -420,
     "elapsed": 39,
     "user": {
      "displayName": "Hoang Bao",
      "userId": "06243142831558434309"
     }
    },
    "pycharm": {
     "name": "#%%\n"
    }
   },
   "outputs": [],
   "source": [
    "args = {\n",
    "    'weights': 'weight/improvement'\n",
    "}"
   ]
  },
  {
   "cell_type": "markdown",
   "metadata": {
    "id": "3B_AV78nhaXM",
    "pycharm": {
     "name": "#%% md\n"
    }
   },
   "source": [
    "#### Load the training and testing data, then scale it into the range [0, 1]"
   ]
  },
  {
   "cell_type": "code",
   "execution_count": 14,
   "metadata": {
    "colab": {
     "base_uri": "https://localhost:8080/"
    },
    "executionInfo": {
     "elapsed": 16832,
     "status": "ok",
     "timestamp": 1656697247691,
     "user": {
      "displayName": "Hoang Bao",
      "userId": "06243142831558434309"
     },
     "user_tz": -420
    },
    "id": "ya2xyNb_h1ay",
    "outputId": "c0f1b87c-11dc-494f-c0bd-0cdb6e3ffadc",
    "pycharm": {
     "name": "#%%\n"
    }
   },
   "outputs": [
    {
     "output_type": "stream",
     "name": "stdout",
     "text": [
      "[INFO] loading CIFAR-10 data...\n",
      "Downloading data from https://www.cs.toronto.edu/~kriz/cifar-10-python.tar.gz\n",
      "170500096/170498071 [==============================] - 13s 0us/step\n",
      "170508288/170498071 [==============================] - 13s 0us/step\n"
     ]
    }
   ],
   "source": [
    "print(\"[INFO] loading CIFAR-10 data...\")\n",
    "((trainX, trainY), (testX, testY)) = cifar10.load_data()\n",
    "trainX = trainX.astype('float')/255.0\n",
    "testX = testX.astype('float')/255.0"
   ]
  },
  {
   "cell_type": "markdown",
   "metadata": {
    "id": "SxEO1QMViIkt",
    "pycharm": {
     "name": "#%% md\n"
    }
   },
   "source": [
    "#### Convert the label names for the CIFAR-10 dataset"
   ]
  },
  {
   "cell_type": "code",
   "execution_count": 15,
   "metadata": {
    "id": "F-02kYI2iUR5",
    "executionInfo": {
     "status": "ok",
     "timestamp": 1656697248331,
     "user_tz": -420,
     "elapsed": 654,
     "user": {
      "displayName": "Hoang Bao",
      "userId": "06243142831558434309"
     }
    },
    "pycharm": {
     "name": "#%%\n"
    }
   },
   "outputs": [],
   "source": [
    "lb = LabelBinarizer()\n",
    "trainY = lb.fit_transform(trainY)\n",
    "testY = lb.fit_transform(testY)"
   ]
  },
  {
   "cell_type": "markdown",
   "metadata": {
    "id": "B0bM8BKfiyGj",
    "pycharm": {
     "name": "#%% md\n"
    }
   },
   "source": [
    "### Initialize the SGD optimizer along with the MiniVGGNet architecture"
   ]
  },
  {
   "cell_type": "code",
   "execution_count": 16,
   "metadata": {
    "colab": {
     "base_uri": "https://localhost:8080/"
    },
    "executionInfo": {
     "elapsed": 4400,
     "status": "ok",
     "timestamp": 1656697252729,
     "user": {
      "displayName": "Hoang Bao",
      "userId": "06243142831558434309"
     },
     "user_tz": -420
    },
    "id": "D42JH-tdi71S",
    "outputId": "e3955c26-84d4-463d-e3d3-849a82dc0fb0",
    "pycharm": {
     "name": "#%%\n"
    }
   },
   "outputs": [
    {
     "output_type": "stream",
     "name": "stdout",
     "text": [
      "[INFO] compiling model...\n"
     ]
    },
    {
     "output_type": "stream",
     "name": "stderr",
     "text": [
      "/usr/local/lib/python3.7/dist-packages/keras/optimizer_v2/gradient_descent.py:102: UserWarning: The `lr` argument is deprecated, use `learning_rate` instead.\n",
      "  super(SGD, self).__init__(name, **kwargs)\n"
     ]
    }
   ],
   "source": [
    "print(\"[INFO] compiling model...\")\n",
    "opt = SGD(lr=0.01, decay = 0.01/40, momentum = 0.9, nesterov=True)\n",
    "model = MiniVGGNet.build(width=32, height=32, depth=3, classes=10)\n",
    "model.compile(loss='categorical_crossentropy', optimizer=opt,\n",
    "              metrics=['accuracy'])"
   ]
  },
  {
   "cell_type": "markdown",
   "source": [
    "### Construct the callback to save series of model to disk based on the validation loss (if the val_loss decrease)"
   ],
   "metadata": {
    "id": "BJFxii2J1rWg",
    "pycharm": {
     "name": "#%% md\n"
    }
   }
  },
  {
   "cell_type": "code",
   "source": [
    "fname = os.path.sep.join([args['weights'], 'weights-{epoch:03d}-{val_loss:.4f}.hdf5'])\n",
    "checkpoint = ModelCheckpoint(fname, monitor='val_loss', mode='min',\n",
    "                             save_best_only=True, verbose=1)\n",
    "callbacks = [checkpoint]"
   ],
   "metadata": {
    "id": "Y9I0mdH91zsv",
    "executionInfo": {
     "status": "ok",
     "timestamp": 1656697459875,
     "user_tz": -420,
     "elapsed": 676,
     "user": {
      "displayName": "Hoang Bao",
      "userId": "06243142831558434309"
     }
    },
    "pycharm": {
     "name": "#%%\n"
    }
   },
   "execution_count": 21,
   "outputs": []
  },
  {
   "cell_type": "markdown",
   "source": [
    "#### Train the network"
   ],
   "metadata": {
    "id": "WUfWNFuC3_1f",
    "pycharm": {
     "name": "#%% md\n"
    }
   }
  },
  {
   "cell_type": "code",
   "execution_count": null,
   "metadata": {
    "id": "IrM_8sK-kUmU",
    "pycharm": {
     "name": "#%%\n"
    }
   },
   "outputs": [],
   "source": [
    "# train the network\n",
    "print('[INFO] training network')\n",
    "model.fit(trainX, trainY, validation_data=(testX, testY),\n",
    "          batch_size=64, epochs=40, callbacks = callbacks, verbose=2)\n"
   ]
  },
  {
   "cell_type": "code",
   "source": [],
   "metadata": {
    "id": "cjX6UjP44HOi",
    "pycharm": {
     "name": "#%%\n"
    }
   },
   "execution_count": null,
   "outputs": []
  }
 ]
}
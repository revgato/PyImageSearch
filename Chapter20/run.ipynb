{
 "cells": [
  {
   "cell_type": "markdown",
   "source": [
    "## This notebook help us run .py script on Google Colab"
   ],
   "metadata": {
    "collapsed": false,
    "pycharm": {
     "name": "#%% md\n"
    },
    "id": "h5aWn6nPjMnb"
   }
  },
  {
   "cell_type": "code",
   "source": [
    "from google.colab import drive\n",
    "drive.mount('/content/drive')"
   ],
   "metadata": {
    "colab": {
     "base_uri": "https://localhost:8080/"
    },
    "id": "TsD0FITIjXLc",
    "executionInfo": {
     "status": "ok",
     "timestamp": 1656844672055,
     "user_tz": -420,
     "elapsed": 21875,
     "user": {
      "displayName": "Hoang Bao",
      "userId": "06243142831558434309"
     }
    },
    "outputId": "f97ff156-cf7e-4fb5-d789-77a543692e2a",
    "pycharm": {
     "name": "#%%\n"
    }
   },
   "execution_count": 1,
   "outputs": [
    {
     "output_type": "stream",
     "name": "stdout",
     "text": [
      "Mounted at /content/drive\n"
     ]
    }
   ]
  },
  {
   "cell_type": "code",
   "source": [
    "from google.colab.patches import cv2_imshow"
   ],
   "metadata": {
    "id": "EY7jHkqynwPQ",
    "executionInfo": {
     "status": "ok",
     "timestamp": 1656844498648,
     "user_tz": -420,
     "elapsed": 7,
     "user": {
      "displayName": "Hoang Bao",
      "userId": "06243142831558434309"
     }
    },
    "pycharm": {
     "name": "#%%\n"
    }
   },
   "execution_count": 23,
   "outputs": []
  },
  {
   "cell_type": "code",
   "source": [
    "cd /content/drive/MyDrive/pyimagesearch/Chapter20"
   ],
   "metadata": {
    "colab": {
     "base_uri": "https://localhost:8080/"
    },
    "id": "MEa3E3T4jYxm",
    "executionInfo": {
     "status": "ok",
     "timestamp": 1656844674358,
     "user_tz": -420,
     "elapsed": 828,
     "user": {
      "displayName": "Hoang Bao",
      "userId": "06243142831558434309"
     }
    },
    "outputId": "26a7f31b-d1b4-4df4-8dbf-43e674528850",
    "pycharm": {
     "name": "#%%\n"
    }
   },
   "execution_count": 2,
   "outputs": [
    {
     "output_type": "stream",
     "name": "stdout",
     "text": [
      "/content/drive/Othercomputers/My Laptop/pyimagesearch/Chapter20\n"
     ]
    }
   ]
  },
  {
   "cell_type": "code",
   "execution_count": null,
   "outputs": [
    {
     "output_type": "stream",
     "name": "stdout",
     "text": [
      "[INFO] loading vgg16...\n",
      "2022-07-03 10:38:00.667737: E tensorflow/stream_executor/cuda/cuda_driver.cc:271] failed call to cuInit: CUDA_ERROR_NO_DEVICE: no CUDA-capable device is detected\n",
      "Downloading data from https://storage.googleapis.com/tensorflow/keras-applications/vgg16/vgg16_weights_tf_dim_ordering_tf_kernels.h5\n",
      "    16384/553467096 [..............................] - ETA: 3s"
     ]
    }
   ],
   "source": [
    "! python imagenet_pretrained.py \\\n",
    "--image example_images/example1.png --model vgg16"
   ],
   "metadata": {
    "pycharm": {
     "name": "#%%\n"
    },
    "colab": {
     "base_uri": "https://localhost:8080/"
    },
    "id": "XbMaMFQ_m-_o",
    "outputId": "b5d7918b-802c-494b-ad60-6ac2794dd2f5"
   }
  },
  {
   "cell_type": "code",
   "execution_count": null,
   "outputs": [],
   "source": [
    "! python imagenet_pretrained.py \\\n",
    "--image example_images/example2.png --model vgg19"
   ],
   "metadata": {
    "pycharm": {
     "name": "#%%\n"
    },
    "id": "THN6aobznss8"
   }
  },
  {
   "cell_type": "code",
   "execution_count": null,
   "outputs": [],
   "source": [
    "! python imagenet_pretrained.py \\\n",
    "--image example_images/example3.png --model inception"
   ],
   "metadata": {
    "pycharm": {
     "name": "#%%\n"
    },
    "id": "3vjO2jB_nss9"
   }
  },
  {
   "cell_type": "code",
   "execution_count": null,
   "outputs": [],
   "source": [
    "! python imagenet_pretrained.py \\\n",
    "--image example_images/example4.png --model xception"
   ],
   "metadata": {
    "pycharm": {
     "name": "#%%\n"
    },
    "id": "cUbX-IUWnss9"
   }
  },
  {
   "cell_type": "code",
   "execution_count": null,
   "outputs": [],
   "source": [
    "! python imagenet_pretrained.py \\\n",
    "--image example_images/example5.jpg --model resnet"
   ],
   "metadata": {
    "pycharm": {
     "name": "#%%\n"
    },
    "id": "u2SVVCgRnss-"
   }
  },
  {
   "cell_type": "code",
   "execution_count": null,
   "outputs": [],
   "source": [],
   "metadata": {
    "pycharm": {
     "name": "#%%\n"
    },
    "id": "HpJdcCUrnss_"
   }
  },
  {
   "cell_type": "code",
   "source": [
    "! python imagenet_pretrained.py \\\n",
    "--image example_images/example3.png --model inception"
   ],
   "metadata": {
    "colab": {
     "base_uri": "https://localhost:8080/"
    },
    "id": "1bYoNB4DnELR",
    "executionInfo": {
     "status": "ok",
     "timestamp": 1656844284755,
     "user_tz": -420,
     "elapsed": 11430,
     "user": {
      "displayName": "Hoang Bao",
      "userId": "06243142831558434309"
     }
    },
    "outputId": "c5ee4f31-e0cb-4385-f839-6c5d0120cd57",
    "pycharm": {
     "name": "#%%\n"
    }
   },
   "execution_count": null,
   "outputs": [
    {
     "output_type": "stream",
     "name": "stdout",
     "text": [
      "[INFO] loading inception...\n",
      "2022-07-03 10:31:16.940888: W tensorflow/core/common_runtime/gpu/gpu_bfc_allocator.cc:39] Overriding allow_growth setting because the TF_FORCE_GPU_ALLOW_GROWTH environment variable is set. Original config value was 0.\n",
      "Downloading data from https://storage.googleapis.com/tensorflow/keras-applications/inception_v3/inception_v3_weights_tf_dim_ordering_tf_kernels.h5\n",
      "96116736/96112376 [==============================] - 0s 0us/step\n",
      "96124928/96112376 [==============================] - 0s 0us/step\n",
      "[INFO] loading and pre-processing image...\n",
      "[INFO] classifying image with 'inception'...\n",
      "1. soccer_ball: 100.00%\n",
      "2. volleyball: 0.00%\n",
      "3. silky_terrier: 0.00%\n",
      "4. sea_urchin: 0.00%\n",
      "5. whistle: 0.00%\n",
      ": cannot connect to X server \n"
     ]
    }
   ]
  },
  {
   "cell_type": "code",
   "source": [
    "! python imagenet_pretrained.py \\\n",
    "--image example_images/example4.png --model xception"
   ],
   "metadata": {
    "colab": {
     "base_uri": "https://localhost:8080/"
    },
    "id": "TafbitYRnUKd",
    "executionInfo": {
     "status": "ok",
     "timestamp": 1656844298168,
     "user_tz": -420,
     "elapsed": 9651,
     "user": {
      "displayName": "Hoang Bao",
      "userId": "06243142831558434309"
     }
    },
    "outputId": "a4dfc2ff-be02-47d3-966b-6829ad9bfd7d",
    "pycharm": {
     "name": "#%%\n"
    }
   },
   "execution_count": null,
   "outputs": [
    {
     "output_type": "stream",
     "name": "stdout",
     "text": [
      "[INFO] loading xception...\n",
      "2022-07-03 10:31:32.056336: W tensorflow/core/common_runtime/gpu/gpu_bfc_allocator.cc:39] Overriding allow_growth setting because the TF_FORCE_GPU_ALLOW_GROWTH environment variable is set. Original config value was 0.\n",
      "Downloading data from https://storage.googleapis.com/tensorflow/keras-applications/xception/xception_weights_tf_dim_ordering_tf_kernels.h5\n",
      "91889664/91884032 [==============================] - 0s 0us/step\n",
      "91897856/91884032 [==============================] - 0s 0us/step\n",
      "[INFO] loading and pre-processing image...\n",
      "[INFO] classifying image with 'xception'...\n",
      "1. beer_glass: 91.15%\n",
      "2. pop_bottle: 1.85%\n",
      "3. beer_bottle: 0.47%\n",
      "4. goblet: 0.11%\n",
      "5. bottlecap: 0.09%\n",
      ": cannot connect to X server \n"
     ]
    }
   ]
  },
  {
   "cell_type": "code",
   "source": [
    "! python imagenet_pretrained.py \\\n",
    "--image example_images/example5.jpg --model resnet"
   ],
   "metadata": {
    "colab": {
     "base_uri": "https://localhost:8080/"
    },
    "id": "dX1Le1lEnX3P",
    "executionInfo": {
     "status": "ok",
     "timestamp": 1656844623845,
     "user_tz": -420,
     "elapsed": 6682,
     "user": {
      "displayName": "Hoang Bao",
      "userId": "06243142831558434309"
     }
    },
    "outputId": "8d534cf5-3524-425b-ae73-2ae3abf80856",
    "pycharm": {
     "name": "#%%\n"
    }
   },
   "execution_count": 25,
   "outputs": [
    {
     "output_type": "stream",
     "name": "stdout",
     "text": [
      "[INFO] loading resnet...\n",
      "2022-07-03 10:37:00.916860: E tensorflow/stream_executor/cuda/cuda_driver.cc:271] failed call to cuInit: CUDA_ERROR_NO_DEVICE: no CUDA-capable device is detected\n",
      "[INFO] loading and pre-processing image...\n",
      "[INFO] classifying image with 'resnet'...\n",
      "1. macaw: 87.17%\n",
      "2. lorikeet: 9.64%\n",
      "3. cock: 2.97%\n",
      "4. hen: 0.07%\n",
      "5. sulphur-crested_cockatoo: 0.02%\n",
      ": cannot connect to X server \n"
     ]
    }
   ]
  },
  {
   "cell_type": "code",
   "source": [],
   "metadata": {
    "id": "tqAjwTuRnbl5",
    "pycharm": {
     "name": "#%%\n"
    }
   },
   "execution_count": null,
   "outputs": []
  }
 ],
 "metadata": {
  "kernelspec": {
   "display_name": "Python 3",
   "language": "python",
   "name": "python3"
  },
  "language_info": {
   "codemirror_mode": {
    "name": "ipython",
    "version": 2
   },
   "file_extension": ".py",
   "mimetype": "text/x-python",
   "name": "python",
   "nbconvert_exporter": "python",
   "pygments_lexer": "ipython2",
   "version": "2.7.6"
  },
  "colab": {
   "name": "run.ipynb",
   "provenance": [],
   "collapsed_sections": []
  },
  "gpuClass": "standard"
 },
 "nbformat": 4,
 "nbformat_minor": 0
}
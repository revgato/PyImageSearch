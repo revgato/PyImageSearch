{
 "cells": [
  {
   "cell_type": "markdown",
   "source": [
    "## Import the necessary packages"
   ],
   "metadata": {
    "collapsed": false,
    "pycharm": {
     "name": "#%% md\n"
    }
   }
  },
  {
   "cell_type": "markdown",
   "source": [
    "Set the matplotlib backend so figures can be saved in the background"
   ],
   "metadata": {
    "collapsed": false,
    "pycharm": {
     "name": "#%% md\n"
    }
   }
  },
  {
   "cell_type": "code",
   "execution_count": 1,
   "outputs": [],
   "source": [
    "import matplotlib\n",
    "matplotlib.use(\"Agg\")"
   ],
   "metadata": {
    "collapsed": false,
    "pycharm": {
     "name": "#%%\n"
    }
   }
  },
  {
   "cell_type": "code",
   "execution_count": 2,
   "outputs": [],
   "source": [
    "import sys\n",
    "sys.path.append(\"..\")\n",
    "import os\n",
    "os.add_dll_directory(\"C:/Program Files/NVIDIA GPU Computing Toolkit/CUDA/v11.2/bin\")\n",
    "from sklearn.preprocessing import LabelBinarizer\n",
    "from sklearn.metrics import classification_report\n",
    "from nn.conv.minivggnet import MiniVGGNet\n",
    "from tensorflow.keras.callbacks import LearningRateScheduler\n",
    "from tensorflow.keras.optimizers import SGD\n",
    "from tensorflow.keras.datasets import cifar10\n",
    "import matplotlib.pyplot as plt\n",
    "import numpy as np"
   ],
   "metadata": {
    "collapsed": false,
    "pycharm": {
     "name": "#%%\n"
    }
   }
  },
  {
   "cell_type": "markdown",
   "source": [
    "Define learning rate scheduler"
   ],
   "metadata": {
    "collapsed": false,
    "pycharm": {
     "name": "#%% md\n"
    }
   }
  },
  {
   "cell_type": "code",
   "execution_count": 3,
   "outputs": [],
   "source": [
    "def step_decay(epoch):\n",
    "    # initialize the base initial learning rate, drop factor, and\n",
    "    # epochs to drop every\n",
    "    initAlpha = 0.01\n",
    "    factor = 0.25\n",
    "    dropEvery = 5\n",
    "\n",
    "    # compute learning rate for the current epoch\n",
    "    alpha = initAlpha * (factor ** np.floor((1 + epoch) / dropEvery))\n",
    "\n",
    "    # return the learning rate\n",
    "    return float(alpha)"
   ],
   "metadata": {
    "collapsed": false,
    "pycharm": {
     "name": "#%%\n"
    }
   }
  },
  {
   "cell_type": "markdown",
   "source": [
    "Construct the dictionary instead of argument parse"
   ],
   "metadata": {
    "collapsed": false,
    "pycharm": {
     "name": "#%% md\n"
    }
   }
  },
  {
   "cell_type": "code",
   "execution_count": 4,
   "outputs": [],
   "source": [
    "args = {\n",
    "    \"output\" : \"output/lr_decay_f0.25_plot.png\"\n",
    "}"
   ],
   "metadata": {
    "collapsed": false,
    "pycharm": {
     "name": "#%%\n"
    }
   }
  },
  {
   "cell_type": "markdown",
   "source": [
    "Load the training and testing data, then scale it into the range [0, 1]"
   ],
   "metadata": {
    "collapsed": false,
    "pycharm": {
     "name": "#%% md\n"
    }
   }
  },
  {
   "cell_type": "code",
   "execution_count": 5,
   "outputs": [
    {
     "name": "stdout",
     "output_type": "stream",
     "text": [
      "[INFO] loading CIFAR-10 data...\n"
     ]
    }
   ],
   "source": [
    "print(\"[INFO] loading CIFAR-10 data...\")\n",
    "((trainX, trainY), (testX, testY)) = cifar10.load_data()\n",
    "trainX = trainX.astype(\"float\") / 255.0\n",
    "testX = testX.astype(\"float\") / 255.0"
   ],
   "metadata": {
    "collapsed": false,
    "pycharm": {
     "name": "#%%\n"
    }
   }
  },
  {
   "cell_type": "markdown",
   "source": [
    "Convert the labels from integers to vectors"
   ],
   "metadata": {
    "collapsed": false,
    "pycharm": {
     "name": "#%% md\n"
    }
   }
  },
  {
   "cell_type": "code",
   "execution_count": 6,
   "outputs": [],
   "source": [
    "lb = LabelBinarizer()\n",
    "trainY = lb.fit_transform(trainY)\n",
    "testY = lb.fit_transform(testY)"
   ],
   "metadata": {
    "collapsed": false,
    "pycharm": {
     "name": "#%%\n"
    }
   }
  },
  {
   "cell_type": "markdown",
   "source": [
    "Initialize the label names for the CIFAR-10 dataset"
   ],
   "metadata": {
    "collapsed": false,
    "pycharm": {
     "name": "#%% md\n"
    }
   }
  },
  {
   "cell_type": "code",
   "execution_count": 7,
   "outputs": [],
   "source": [
    "labelNames = [\"airplane\", \"automobile\", \"bird\", \"cat\", \"deer\", \"dog\", \"frog\", \"horse\", \"ship\", \"truck\"]"
   ],
   "metadata": {
    "collapsed": false,
    "pycharm": {
     "name": "#%%\n"
    }
   }
  },
  {
   "cell_type": "markdown",
   "source": [
    "## Let's compile our model and start training MiniVGGNet with Learning rate decay:"
   ],
   "metadata": {
    "collapsed": false,
    "pycharm": {
     "name": "#%% md\n"
    }
   }
  },
  {
   "cell_type": "markdown",
   "source": [
    "Define the set of callbacks to be passed to the model during training"
   ],
   "metadata": {
    "collapsed": false,
    "pycharm": {
     "name": "#%% md\n"
    }
   }
  },
  {
   "cell_type": "code",
   "execution_count": 8,
   "outputs": [],
   "source": [
    "callbacks = [LearningRateScheduler(step_decay)]"
   ],
   "metadata": {
    "collapsed": false,
    "pycharm": {
     "name": "#%%\n"
    }
   }
  },
  {
   "cell_type": "markdown",
   "source": [
    "Initialize the optimizer and model"
   ],
   "metadata": {
    "collapsed": false,
    "pycharm": {
     "name": "#%% md\n"
    }
   }
  },
  {
   "cell_type": "code",
   "execution_count": 9,
   "outputs": [
    {
     "name": "stdout",
     "output_type": "stream",
     "text": [
      "[INFO] compiling model...\n"
     ]
    },
    {
     "name": "stderr",
     "output_type": "stream",
     "text": [
      "d:\\tu hoc\\deep learning for computer vision with python\\starter_bundle\\lib\\site-packages\\keras\\optimizer_v2\\optimizer_v2.py:355: UserWarning: The `lr` argument is deprecated, use `learning_rate` instead.\n",
      "  warnings.warn(\n"
     ]
    }
   ],
   "source": [
    "print(\"[INFO] compiling model...\")\n",
    "opt = SGD(lr=0.01, momentum=0.9, nesterov=True)\n",
    "model = MiniVGGNet.build(width=32, height=32, depth=3, classes=10)\n",
    "model.compile(loss=\"categorical_crossentropy\", optimizer=opt, metrics=[\"accuracy\"])"
   ],
   "metadata": {
    "collapsed": false,
    "pycharm": {
     "name": "#%%\n"
    }
   }
  },
  {
   "cell_type": "markdown",
   "source": [
    "Train the network"
   ],
   "metadata": {
    "collapsed": false,
    "pycharm": {
     "name": "#%% md\n"
    }
   }
  },
  {
   "cell_type": "code",
   "execution_count": 10,
   "outputs": [
    {
     "name": "stdout",
     "output_type": "stream",
     "text": [
      "[INFO] training network...\n",
      "Epoch 1/40\n",
      "782/782 [==============================] - 26s 24ms/step - loss: 1.6099 - accuracy: 0.4664 - val_loss: 1.2633 - val_accuracy: 0.5755\n",
      "Epoch 2/40\n",
      "782/782 [==============================] - 17s 22ms/step - loss: 1.1318 - accuracy: 0.6138 - val_loss: 1.1340 - val_accuracy: 0.6074\n",
      "Epoch 3/40\n",
      "782/782 [==============================] - 17s 22ms/step - loss: 0.9621 - accuracy: 0.6676 - val_loss: 0.8717 - val_accuracy: 0.6925\n",
      "Epoch 4/40\n",
      "782/782 [==============================] - 17s 22ms/step - loss: 0.8592 - accuracy: 0.7029 - val_loss: 0.7464 - val_accuracy: 0.7431\n",
      "Epoch 5/40\n",
      "782/782 [==============================] - 17s 22ms/step - loss: 0.7102 - accuracy: 0.7506 - val_loss: 0.6613 - val_accuracy: 0.7701\n",
      "Epoch 6/40\n",
      "782/782 [==============================] - 18s 23ms/step - loss: 0.6617 - accuracy: 0.7676 - val_loss: 0.6307 - val_accuracy: 0.7816\n",
      "Epoch 7/40\n",
      "782/782 [==============================] - 17s 22ms/step - loss: 0.6342 - accuracy: 0.7760 - val_loss: 0.6219 - val_accuracy: 0.7817\n",
      "Epoch 8/40\n",
      "782/782 [==============================] - 19s 25ms/step - loss: 0.6134 - accuracy: 0.7828 - val_loss: 0.6164 - val_accuracy: 0.7845\n",
      "Epoch 9/40\n",
      "782/782 [==============================] - 18s 24ms/step - loss: 0.5925 - accuracy: 0.7920 - val_loss: 0.6002 - val_accuracy: 0.7900\n",
      "Epoch 10/40\n",
      "782/782 [==============================] - 18s 23ms/step - loss: 0.5664 - accuracy: 0.7997 - val_loss: 0.6015 - val_accuracy: 0.7947\n",
      "Epoch 11/40\n",
      "782/782 [==============================] - 17s 22ms/step - loss: 0.5526 - accuracy: 0.8036 - val_loss: 0.5902 - val_accuracy: 0.7967\n",
      "Epoch 12/40\n",
      "782/782 [==============================] - 19s 24ms/step - loss: 0.5401 - accuracy: 0.8088 - val_loss: 0.5812 - val_accuracy: 0.7981\n",
      "Epoch 13/40\n",
      "782/782 [==============================] - 18s 23ms/step - loss: 0.5480 - accuracy: 0.8056 - val_loss: 0.5886 - val_accuracy: 0.7972\n",
      "Epoch 14/40\n",
      "782/782 [==============================] - 24s 31ms/step - loss: 0.5349 - accuracy: 0.8108 - val_loss: 0.5759 - val_accuracy: 0.7994\n",
      "Epoch 15/40\n",
      "782/782 [==============================] - 28s 36ms/step - loss: 0.5275 - accuracy: 0.8144 - val_loss: 0.5770 - val_accuracy: 0.8013\n",
      "Epoch 16/40\n",
      "782/782 [==============================] - 46s 59ms/step - loss: 0.5187 - accuracy: 0.8164 - val_loss: 0.5744 - val_accuracy: 0.7997\n",
      "Epoch 17/40\n",
      "782/782 [==============================] - 41s 52ms/step - loss: 0.5221 - accuracy: 0.8148 - val_loss: 0.5762 - val_accuracy: 0.8009\n",
      "Epoch 18/40\n",
      "782/782 [==============================] - 30s 38ms/step - loss: 0.5255 - accuracy: 0.8170 - val_loss: 0.5729 - val_accuracy: 0.8001\n",
      "Epoch 19/40\n",
      "782/782 [==============================] - 33s 42ms/step - loss: 0.5182 - accuracy: 0.8163 - val_loss: 0.5719 - val_accuracy: 0.8012\n",
      "Epoch 20/40\n",
      "782/782 [==============================] - 32s 41ms/step - loss: 0.5148 - accuracy: 0.8180 - val_loss: 0.5710 - val_accuracy: 0.8005\n",
      "Epoch 21/40\n",
      "782/782 [==============================] - 27s 35ms/step - loss: 0.5130 - accuracy: 0.8189 - val_loss: 0.5709 - val_accuracy: 0.8004\n",
      "Epoch 22/40\n",
      "782/782 [==============================] - 25s 32ms/step - loss: 0.5137 - accuracy: 0.8177 - val_loss: 0.5715 - val_accuracy: 0.8002\n",
      "Epoch 23/40\n",
      "782/782 [==============================] - 30s 38ms/step - loss: 0.5202 - accuracy: 0.8170 - val_loss: 0.5709 - val_accuracy: 0.8000\n",
      "Epoch 24/40\n",
      "782/782 [==============================] - 26s 33ms/step - loss: 0.5154 - accuracy: 0.8179 - val_loss: 0.5707 - val_accuracy: 0.8008\n",
      "Epoch 25/40\n",
      "782/782 [==============================] - 21s 27ms/step - loss: 0.5122 - accuracy: 0.8202 - val_loss: 0.5712 - val_accuracy: 0.8003\n",
      "Epoch 26/40\n",
      "782/782 [==============================] - 23s 30ms/step - loss: 0.5151 - accuracy: 0.8169 - val_loss: 0.5704 - val_accuracy: 0.8008\n",
      "Epoch 27/40\n",
      "782/782 [==============================] - 21s 26ms/step - loss: 0.5176 - accuracy: 0.8179 - val_loss: 0.5700 - val_accuracy: 0.8001\n",
      "Epoch 28/40\n",
      "782/782 [==============================] - 26s 34ms/step - loss: 0.5114 - accuracy: 0.8194 - val_loss: 0.5720 - val_accuracy: 0.8007\n",
      "Epoch 29/40\n",
      "782/782 [==============================] - 26s 33ms/step - loss: 0.5146 - accuracy: 0.8175 - val_loss: 0.5713 - val_accuracy: 0.8007\n",
      "Epoch 30/40\n",
      "782/782 [==============================] - 21s 27ms/step - loss: 0.5102 - accuracy: 0.8189 - val_loss: 0.5708 - val_accuracy: 0.7993\n",
      "Epoch 31/40\n",
      "782/782 [==============================] - 21s 27ms/step - loss: 0.5110 - accuracy: 0.8194 - val_loss: 0.5718 - val_accuracy: 0.8002\n",
      "Epoch 32/40\n",
      "782/782 [==============================] - 18s 24ms/step - loss: 0.5164 - accuracy: 0.8189 - val_loss: 0.5709 - val_accuracy: 0.8003\n",
      "Epoch 33/40\n",
      "782/782 [==============================] - 19s 24ms/step - loss: 0.5118 - accuracy: 0.8197 - val_loss: 0.5702 - val_accuracy: 0.8011\n",
      "Epoch 34/40\n",
      "782/782 [==============================] - 19s 24ms/step - loss: 0.5124 - accuracy: 0.8191 - val_loss: 0.5696 - val_accuracy: 0.8010\n",
      "Epoch 35/40\n",
      "782/782 [==============================] - 19s 24ms/step - loss: 0.5121 - accuracy: 0.8209 - val_loss: 0.5703 - val_accuracy: 0.8003\n",
      "Epoch 36/40\n",
      "782/782 [==============================] - 19s 25ms/step - loss: 0.5167 - accuracy: 0.8169 - val_loss: 0.5711 - val_accuracy: 0.7997\n",
      "Epoch 37/40\n",
      "782/782 [==============================] - 21s 27ms/step - loss: 0.5185 - accuracy: 0.8166 - val_loss: 0.5698 - val_accuracy: 0.8000\n",
      "Epoch 38/40\n",
      "782/782 [==============================] - 20s 26ms/step - loss: 0.5102 - accuracy: 0.8202 - val_loss: 0.5709 - val_accuracy: 0.8009\n",
      "Epoch 39/40\n",
      "782/782 [==============================] - 20s 26ms/step - loss: 0.5172 - accuracy: 0.8168 - val_loss: 0.5702 - val_accuracy: 0.8007\n",
      "Epoch 40/40\n",
      "782/782 [==============================] - 22s 28ms/step - loss: 0.5112 - accuracy: 0.8182 - val_loss: 0.5724 - val_accuracy: 0.8008\n"
     ]
    }
   ],
   "source": [
    "print(\"[INFO] training network...\")\n",
    "H = model.fit(trainX, trainY, validation_data=(testX, testY), batch_size=64, epochs=40, callbacks = callbacks, verbose=1)"
   ],
   "metadata": {
    "collapsed": false,
    "pycharm": {
     "name": "#%%\n"
    }
   }
  },
  {
   "cell_type": "markdown",
   "source": [
    "Evaluate the network"
   ],
   "metadata": {
    "collapsed": false,
    "pycharm": {
     "name": "#%% md\n"
    }
   }
  },
  {
   "cell_type": "code",
   "execution_count": 11,
   "outputs": [
    {
     "name": "stdout",
     "output_type": "stream",
     "text": [
      "[INFO] evaluating network...\n",
      "              precision    recall  f1-score   support\n",
      "\n",
      "    airplane       0.82      0.80      0.81      1000\n",
      "  automobile       0.92      0.88      0.90      1000\n",
      "        bird       0.74      0.67      0.70      1000\n",
      "         cat       0.65      0.60      0.63      1000\n",
      "        deer       0.74      0.82      0.78      1000\n",
      "         dog       0.71      0.73      0.72      1000\n",
      "        frog       0.80      0.89      0.85      1000\n",
      "       horse       0.86      0.83      0.85      1000\n",
      "        ship       0.89      0.90      0.89      1000\n",
      "       truck       0.85      0.89      0.87      1000\n",
      "\n",
      "    accuracy                           0.80     10000\n",
      "   macro avg       0.80      0.80      0.80     10000\n",
      "weighted avg       0.80      0.80      0.80     10000\n",
      "\n"
     ]
    }
   ],
   "source": [
    "print(\"[INFO] evaluating network...\")\n",
    "predictions = model.predict(testX, batch_size=64)\n",
    "print(classification_report(testY.argmax(axis=1), predictions.argmax(axis=1), target_names=labelNames))"
   ],
   "metadata": {
    "collapsed": false,
    "pycharm": {
     "name": "#%%\n"
    }
   }
  },
  {
   "cell_type": "markdown",
   "source": [
    "Plot the training loss and accuracy"
   ],
   "metadata": {
    "collapsed": false,
    "pycharm": {
     "name": "#%% md\n"
    }
   }
  },
  {
   "cell_type": "code",
   "execution_count": 13,
   "outputs": [],
   "source": [
    "plt.style.use(\"ggplot\")\n",
    "plt.figure()\n",
    "plt.plot(np.arange(0, 40), H.history[\"loss\"], label=\"train_loss\")\n",
    "plt.plot(np.arange(0, 40), H.history[\"val_loss\"], label=\"val_loss\")\n",
    "plt.plot(np.arange(0, 40), H.history[\"accuracy\"], label=\"train_acc\")\n",
    "plt.plot(np.arange(0, 40), H.history[\"val_accuracy\"], label=\"val_acc\")\n",
    "plt.title(\"Training Loss and Accuracy on CIFAR-10 with Learning rate decay\")\n",
    "plt.xlabel(\"Epoch #\")\n",
    "plt.ylabel(\"Loss/Accuracy\")\n",
    "plt.legend()\n",
    "plt.savefig(args[\"output\"])"
   ],
   "metadata": {
    "collapsed": false,
    "pycharm": {
     "name": "#%%\n"
    }
   }
  },
  {
   "cell_type": "code",
   "execution_count": null,
   "outputs": [],
   "source": [],
   "metadata": {
    "collapsed": false,
    "pycharm": {
     "name": "#%%\n"
    }
   }
  }
 ],
 "metadata": {
  "kernelspec": {
   "display_name": "Python 3",
   "language": "python",
   "name": "python3"
  },
  "language_info": {
   "codemirror_mode": {
    "name": "ipython",
    "version": 2
   },
   "file_extension": ".py",
   "mimetype": "text/x-python",
   "name": "python",
   "nbconvert_exporter": "python",
   "pygments_lexer": "ipython2",
   "version": "2.7.6"
  }
 },
 "nbformat": 4,
 "nbformat_minor": 0
}
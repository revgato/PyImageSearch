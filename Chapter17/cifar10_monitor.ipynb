{
 "nbformat": 4,
 "nbformat_minor": 0,
 "metadata": {
  "colab": {
   "name": "cifar10_monitor.ipynb",
   "provenance": [],
   "mount_file_id": "1Dh_Q2DqpuWy4RgRtyMe3Mnwn989Qak8g",
   "authorship_tag": "ABX9TyPsXjDyqnSonIRmtqj5gvQE"
  },
  "kernelspec": {
   "name": "python3",
   "display_name": "Python 3"
  },
  "language_info": {
   "name": "python"
  },
  "accelerator": "GPU",
  "gpuClass": "standard"
 },
 "cells": [
  {
   "cell_type": "code",
   "source": [
    "cd /content/drive/MyDrive/pyimagesearch"
   ],
   "metadata": {
    "colab": {
     "base_uri": "https://localhost:8080/"
    },
    "id": "0nSWjXnBfmjC",
    "executionInfo": {
     "status": "ok",
     "timestamp": 1656693108707,
     "user_tz": -420,
     "elapsed": 1017,
     "user": {
      "displayName": "Hoang Bao",
      "userId": "06243142831558434309"
     }
    },
    "outputId": "fdd2bfc2-1859-4ddc-dd68-6ca55c74d913",
    "pycharm": {
     "name": "#%%\n"
    }
   },
   "execution_count": 20,
   "outputs": [
    {
     "output_type": "stream",
     "name": "stdout",
     "text": [
      "/content/drive/Othercomputers/My Laptop/pyimagesearch\n"
     ]
    }
   ]
  },
  {
   "cell_type": "code",
   "source": [
    "mkdir Chapter17"
   ],
   "metadata": {
    "colab": {
     "base_uri": "https://localhost:8080/"
    },
    "id": "Dl9EMQPJmVPa",
    "executionInfo": {
     "status": "ok",
     "timestamp": 1656693109397,
     "user_tz": -420,
     "elapsed": 45,
     "user": {
      "displayName": "Hoang Bao",
      "userId": "06243142831558434309"
     }
    },
    "outputId": "5196a2f1-4aa3-43b9-9549-d50e631a092c",
    "pycharm": {
     "name": "#%%\n"
    }
   },
   "execution_count": 21,
   "outputs": [
    {
     "output_type": "stream",
     "name": "stdout",
     "text": [
      "mkdir: cannot create directory ‘Chapter17’: File exists\n"
     ]
    }
   ]
  },
  {
   "cell_type": "code",
   "source": [
    "cd Chapter17"
   ],
   "metadata": {
    "colab": {
     "base_uri": "https://localhost:8080/"
    },
    "id": "TaR_fOcTmjKA",
    "executionInfo": {
     "status": "ok",
     "timestamp": 1656693109398,
     "user_tz": -420,
     "elapsed": 37,
     "user": {
      "displayName": "Hoang Bao",
      "userId": "06243142831558434309"
     }
    },
    "outputId": "e729a7a8-0e2d-4c0b-b8e0-ab710cdda2bf",
    "pycharm": {
     "name": "#%%\n"
    }
   },
   "execution_count": 22,
   "outputs": [
    {
     "output_type": "stream",
     "name": "stdout",
     "text": [
      "/content/drive/Othercomputers/My Laptop/pyimagesearch/Chapter17\n"
     ]
    }
   ]
  },
  {
   "cell_type": "code",
   "source": [
    "mkdir output"
   ],
   "metadata": {
    "colab": {
     "base_uri": "https://localhost:8080/"
    },
    "id": "o3R83CzvmmwI",
    "executionInfo": {
     "status": "ok",
     "timestamp": 1656693109398,
     "user_tz": -420,
     "elapsed": 31,
     "user": {
      "displayName": "Hoang Bao",
      "userId": "06243142831558434309"
     }
    },
    "outputId": "ea50fe86-7a17-41f6-ae80-756a34fcb640",
    "pycharm": {
     "name": "#%%\n"
    }
   },
   "execution_count": 23,
   "outputs": [
    {
     "output_type": "stream",
     "name": "stdout",
     "text": [
      "mkdir: cannot create directory ‘output’: File exists\n"
     ]
    }
   ]
  },
  {
   "cell_type": "code",
   "source": [
    "!nvidia-smi"
   ],
   "metadata": {
    "colab": {
     "base_uri": "https://localhost:8080/"
    },
    "id": "LAYu74EolqEk",
    "executionInfo": {
     "status": "ok",
     "timestamp": 1656693109399,
     "user_tz": -420,
     "elapsed": 23,
     "user": {
      "displayName": "Hoang Bao",
      "userId": "06243142831558434309"
     }
    },
    "outputId": "3c71ea79-70d5-4433-8135-aecfcfc94c6a",
    "pycharm": {
     "name": "#%%\n"
    }
   },
   "execution_count": 24,
   "outputs": [
    {
     "output_type": "stream",
     "name": "stdout",
     "text": [
      "Fri Jul  1 16:31:48 2022       \n",
      "+-----------------------------------------------------------------------------+\n",
      "| NVIDIA-SMI 460.32.03    Driver Version: 460.32.03    CUDA Version: 11.2     |\n",
      "|-------------------------------+----------------------+----------------------+\n",
      "| GPU  Name        Persistence-M| Bus-Id        Disp.A | Volatile Uncorr. ECC |\n",
      "| Fan  Temp  Perf  Pwr:Usage/Cap|         Memory-Usage | GPU-Util  Compute M. |\n",
      "|                               |                      |               MIG M. |\n",
      "|===============================+======================+======================|\n",
      "|   0  Tesla T4            Off  | 00000000:00:04.0 Off |                    0 |\n",
      "| N/A   40C    P8     9W /  70W |      0MiB / 15109MiB |      0%      Default |\n",
      "|                               |                      |                  N/A |\n",
      "+-------------------------------+----------------------+----------------------+\n",
      "                                                                               \n",
      "+-----------------------------------------------------------------------------+\n",
      "| Processes:                                                                  |\n",
      "|  GPU   GI   CI        PID   Type   Process name                  GPU Memory |\n",
      "|        ID   ID                                                   Usage      |\n",
      "|=============================================================================|\n",
      "|  No running processes found                                                 |\n",
      "+-----------------------------------------------------------------------------+\n"
     ]
    }
   ]
  },
  {
   "cell_type": "markdown",
   "source": [
    "#### Set the matplotlib backend so figures can be saved in the background"
   ],
   "metadata": {
    "id": "RvB9gXFEeR6f",
    "pycharm": {
     "name": "#%% md\n"
    }
   }
  },
  {
   "cell_type": "code",
   "source": [
    "import matplotlib\n",
    "matplotlib.use(\"Agg\")"
   ],
   "metadata": {
    "id": "1M4gnJP3et47",
    "executionInfo": {
     "status": "ok",
     "timestamp": 1656693109399,
     "user_tz": -420,
     "elapsed": 14,
     "user": {
      "displayName": "Hoang Bao",
      "userId": "06243142831558434309"
     }
    },
    "pycharm": {
     "name": "#%%\n"
    }
   },
   "execution_count": 25,
   "outputs": []
  },
  {
   "cell_type": "markdown",
   "source": [
    "#### Import the necessary packages"
   ],
   "metadata": {
    "id": "4gkSdIVRe6qm",
    "pycharm": {
     "name": "#%% md\n"
    }
   }
  },
  {
   "cell_type": "code",
   "source": [
    "import sys\n",
    "sys.path.append(\"..\")\n",
    "from callbacks.trainingmonitor import TrainingMonitor\n",
    "from sklearn.preprocessing import LabelBinarizer\n",
    "from nn.conv.minivggnet import MiniVGGNet\n",
    "from tensorflow.keras.optimizers import SGD\n",
    "from tensorflow.keras.datasets import cifar10\n",
    "import os"
   ],
   "metadata": {
    "id": "9hUyvb2de-ir",
    "pycharm": {
     "name": "#%%\n"
    }
   },
   "execution_count": null,
   "outputs": []
  },
  {
   "cell_type": "markdown",
   "source": [
    "#### Construct the dictionary instead of argument parse"
   ],
   "metadata": {
    "id": "5JgxQhFBfvJs",
    "pycharm": {
     "name": "#%% md\n"
    }
   }
  },
  {
   "cell_type": "code",
   "source": [
    "args = {\n",
    "    'output': 'output'\n",
    "}"
   ],
   "metadata": {
    "id": "sIhFkniYg-0d",
    "executionInfo": {
     "status": "ok",
     "timestamp": 1656693118460,
     "user_tz": -420,
     "elapsed": 22,
     "user": {
      "displayName": "Hoang Bao",
      "userId": "06243142831558434309"
     }
    },
    "pycharm": {
     "name": "#%%\n"
    }
   },
   "execution_count": 27,
   "outputs": []
  },
  {
   "cell_type": "markdown",
   "source": [
    "##### If that training is going poorly, simply open up task manager and kill the process is associated with script"
   ],
   "metadata": {
    "id": "9P7ZnF8khf5A",
    "pycharm": {
     "name": "#%% md\n"
    }
   }
  },
  {
   "cell_type": "code",
   "source": [
    "#### Show information on the process ID\n",
    "print('[INFO] process ID: {}'.format(os.getpid()))"
   ],
   "metadata": {
    "colab": {
     "base_uri": "https://localhost:8080/"
    },
    "id": "aMaesl70hDSH",
    "executionInfo": {
     "status": "ok",
     "timestamp": 1656693118460,
     "user_tz": -420,
     "elapsed": 20,
     "user": {
      "displayName": "Hoang Bao",
      "userId": "06243142831558434309"
     }
    },
    "outputId": "9637693e-0bef-4f58-d4ac-75c8adc1266b",
    "pycharm": {
     "name": "#%%\n"
    }
   },
   "execution_count": 28,
   "outputs": [
    {
     "output_type": "stream",
     "name": "stdout",
     "text": [
      "[INFO] process ID: 74\n"
     ]
    }
   ]
  },
  {
   "cell_type": "markdown",
   "source": [
    "#### Load the training and testing data, then scale it into the range [0, 1]"
   ],
   "metadata": {
    "id": "3B_AV78nhaXM",
    "pycharm": {
     "name": "#%% md\n"
    }
   }
  },
  {
   "cell_type": "code",
   "source": [
    "print(\"[INFO] loading CIFAR-10 data...\")\n",
    "((trainX, trainY), (testX, testY)) = cifar10.load_data()\n",
    "trainX = trainX.astype('float')/255.0\n",
    "testX = testX.astype('float')/255.0"
   ],
   "metadata": {
    "colab": {
     "base_uri": "https://localhost:8080/"
    },
    "id": "ya2xyNb_h1ay",
    "executionInfo": {
     "status": "ok",
     "timestamp": 1656693134710,
     "user_tz": -420,
     "elapsed": 16257,
     "user": {
      "displayName": "Hoang Bao",
      "userId": "06243142831558434309"
     }
    },
    "outputId": "d51f8166-30ec-44c0-d318-03c30f6a415a",
    "pycharm": {
     "name": "#%%\n"
    }
   },
   "execution_count": 29,
   "outputs": [
    {
     "output_type": "stream",
     "name": "stdout",
     "text": [
      "[INFO] loading CIFAR-10 data...\n",
      "Downloading data from https://www.cs.toronto.edu/~kriz/cifar-10-python.tar.gz\n",
      "170500096/170498071 [==============================] - 13s 0us/step\n",
      "170508288/170498071 [==============================] - 13s 0us/step\n"
     ]
    }
   ]
  },
  {
   "cell_type": "markdown",
   "source": [
    "#### Convert the label names for the CIFAR-10 dataset"
   ],
   "metadata": {
    "id": "SxEO1QMViIkt",
    "pycharm": {
     "name": "#%% md\n"
    }
   }
  },
  {
   "cell_type": "code",
   "source": [
    "lb = LabelBinarizer()\n",
    "trainY = lb.fit_transform(trainY)\n",
    "testY = lb.fit_transform(testY)\n",
    "\n",
    "# Initialize the label names for the CIFAR-10 dataset\n",
    "labelNames = {'airplane', 'automobile', 'bird', 'cat', 'deer', 'dog', 'frog',\n",
    "              'horse', 'ship', 'truck'}"
   ],
   "metadata": {
    "id": "F-02kYI2iUR5",
    "executionInfo": {
     "status": "ok",
     "timestamp": 1656693134712,
     "user_tz": -420,
     "elapsed": 15,
     "user": {
      "displayName": "Hoang Bao",
      "userId": "06243142831558434309"
     }
    },
    "pycharm": {
     "name": "#%%\n"
    }
   },
   "execution_count": 30,
   "outputs": []
  },
  {
   "cell_type": "markdown",
   "source": [
    "### Initialize the SGD optimizer along with the MiniVGGNet architecture"
   ],
   "metadata": {
    "id": "B0bM8BKfiyGj",
    "pycharm": {
     "name": "#%% md\n"
    }
   }
  },
  {
   "cell_type": "code",
   "source": [
    "# But without learning rate decay\n",
    "print(\"[INFO] compiling model...\")\n",
    "opt = SGD(lr=0.01, momentum = 0.9, nesterov=True)\n",
    "model = MiniVGGNet.build(width=32, height=32, depth=3, classes=10)\n",
    "model.compile(loss='categorical_crossentropy', optimizer=opt,\n",
    "              metrics=['accuracy'])"
   ],
   "metadata": {
    "colab": {
     "base_uri": "https://localhost:8080/"
    },
    "id": "D42JH-tdi71S",
    "executionInfo": {
     "status": "ok",
     "timestamp": 1656693139119,
     "user_tz": -420,
     "elapsed": 4419,
     "user": {
      "displayName": "Hoang Bao",
      "userId": "06243142831558434309"
     }
    },
    "outputId": "96b80463-793d-4e45-88e8-50f055c4e35e",
    "pycharm": {
     "name": "#%%\n"
    }
   },
   "execution_count": 31,
   "outputs": [
    {
     "output_type": "stream",
     "name": "stdout",
     "text": [
      "[INFO] compiling model...\n"
     ]
    },
    {
     "output_type": "stream",
     "name": "stderr",
     "text": [
      "/usr/local/lib/python3.7/dist-packages/keras/optimizer_v2/gradient_descent.py:102: UserWarning: The `lr` argument is deprecated, use `learning_rate` instead.\n",
      "  super(SGD, self).__init__(name, **kwargs)\n"
     ]
    }
   ]
  },
  {
   "cell_type": "markdown",
   "source": [
    "### Construct TrainingMonitor callback and train the network"
   ],
   "metadata": {
    "id": "DqGuXVSZjZTK",
    "pycharm": {
     "name": "#%% md\n"
    }
   }
  },
  {
   "cell_type": "code",
   "source": [
    "figPath = os.path.sep.join([args['output'], '{}.png'.format(os.getpid())])\n",
    "jsonPath = os.path.sep.join([args['output'], '{}.json'.format(os.getpid())])\n",
    "callbacks = [TrainingMonitor(figPath, jsonPath=jsonPath)]\n",
    "\n",
    "# train the network\n",
    "print('[INFO] training network')\n",
    "model.fit(trainX, trainY, validation_data=(testX, testY),\n",
    "          batch_size=64, epochs=100, callbacks = callbacks, verbose=1)\n"
   ],
   "metadata": {
    "colab": {
     "base_uri": "https://localhost:8080/"
    },
    "id": "IrM_8sK-kUmU",
    "executionInfo": {
     "status": "ok",
     "timestamp": 1656693942891,
     "user_tz": -420,
     "elapsed": 166836,
     "user": {
      "displayName": "Hoang Bao",
      "userId": "06243142831558434309"
     }
    },
    "outputId": "3ec9ae91-7fa6-4136-dcb5-420249546dc7",
    "pycharm": {
     "name": "#%%\n"
    }
   },
   "execution_count": 32,
   "outputs": [
    {
     "output_type": "stream",
     "name": "stdout",
     "text": [
      "782/782 [==============================] - 7s 9ms/step - loss: 0.0815 - accuracy: 0.9719 - val_loss: 0.7277 - val_accuracy: 0.8322\n",
      "Epoch 84/100\n",
      "782/782 [==============================] - 8s 10ms/step - loss: 0.0865 - accuracy: 0.9701 - val_loss: 0.7006 - val_accuracy: 0.8381\n",
      "Epoch 85/100\n",
      "782/782 [==============================] - 7s 9ms/step - loss: 0.0848 - accuracy: 0.9703 - val_loss: 0.6961 - val_accuracy: 0.8344\n",
      "Epoch 86/100\n",
      "782/782 [==============================] - 8s 10ms/step - loss: 0.0827 - accuracy: 0.9712 - val_loss: 0.6993 - val_accuracy: 0.8369\n",
      "Epoch 87/100\n",
      "782/782 [==============================] - 7s 10ms/step - loss: 0.0830 - accuracy: 0.9708 - val_loss: 0.6657 - val_accuracy: 0.8393\n",
      "Epoch 88/100\n",
      "782/782 [==============================] - 8s 10ms/step - loss: 0.0818 - accuracy: 0.9721 - val_loss: 0.6846 - val_accuracy: 0.8362\n",
      "Epoch 89/100\n",
      "782/782 [==============================] - 7s 9ms/step - loss: 0.0786 - accuracy: 0.9723 - val_loss: 0.6655 - val_accuracy: 0.8337\n",
      "Epoch 90/100\n",
      "782/782 [==============================] - 7s 9ms/step - loss: 0.0786 - accuracy: 0.9725 - val_loss: 0.6991 - val_accuracy: 0.8330\n",
      "Epoch 91/100\n",
      "782/782 [==============================] - 10s 13ms/step - loss: 0.0781 - accuracy: 0.9725 - val_loss: 0.6973 - val_accuracy: 0.8409\n",
      "Epoch 92/100\n",
      "782/782 [==============================] - 7s 9ms/step - loss: 0.0830 - accuracy: 0.9711 - val_loss: 0.7208 - val_accuracy: 0.8361\n",
      "Epoch 93/100\n",
      "782/782 [==============================] - 7s 9ms/step - loss: 0.0777 - accuracy: 0.9732 - val_loss: 0.6952 - val_accuracy: 0.8384\n",
      "Epoch 94/100\n",
      "782/782 [==============================] - 7s 9ms/step - loss: 0.0770 - accuracy: 0.9736 - val_loss: 0.6785 - val_accuracy: 0.8407\n",
      "Epoch 95/100\n",
      "782/782 [==============================] - 7s 9ms/step - loss: 0.0760 - accuracy: 0.9735 - val_loss: 0.6934 - val_accuracy: 0.8364\n",
      "Epoch 96/100\n",
      "782/782 [==============================] - 7s 9ms/step - loss: 0.0798 - accuracy: 0.9727 - val_loss: 0.6966 - val_accuracy: 0.8375\n",
      "Epoch 97/100\n",
      "782/782 [==============================] - 7s 9ms/step - loss: 0.0731 - accuracy: 0.9752 - val_loss: 0.7017 - val_accuracy: 0.8328\n",
      "Epoch 98/100\n",
      "782/782 [==============================] - 7s 9ms/step - loss: 0.0738 - accuracy: 0.9742 - val_loss: 0.7031 - val_accuracy: 0.8338\n",
      "Epoch 99/100\n",
      "782/782 [==============================] - 7s 9ms/step - loss: 0.0731 - accuracy: 0.9747 - val_loss: 0.7020 - val_accuracy: 0.8327\n",
      "Epoch 100/100\n",
      "782/782 [==============================] - 7s 9ms/step - loss: 0.0704 - accuracy: 0.9750 - val_loss: 0.7027 - val_accuracy: 0.8339\n"
     ]
    },
    {
     "output_type": "execute_result",
     "data": {
      "text/plain": [
       "<keras.callbacks.History at 0x7f18e05cafd0>"
      ]
     },
     "metadata": {},
     "execution_count": 32
    }
   ]
  },
  {
   "cell_type": "code",
   "source": [],
   "metadata": {
    "id": "MVgM4b4elVJJ",
    "executionInfo": {
     "status": "ok",
     "timestamp": 1656693942893,
     "user_tz": -420,
     "elapsed": 29,
     "user": {
      "displayName": "Hoang Bao",
      "userId": "06243142831558434309"
     }
    },
    "pycharm": {
     "name": "#%%\n"
    }
   },
   "execution_count": 32,
   "outputs": []
  }
 ]
}
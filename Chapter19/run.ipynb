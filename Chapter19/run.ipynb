{
 "cells": [
  {
   "cell_type": "code",
   "execution_count": null,
   "outputs": [],
   "source": [
    "from google.colab import drive\n",
    "drive.mount('/content/drive')"
   ],
   "metadata": {
    "collapsed": false,
    "pycharm": {
     "name": "#%%\n"
    }
   }
  },
  {
   "cell_type": "code",
   "execution_count": null,
   "outputs": [],
   "source": [
    "cd /content/drive/MyDrive/pyimagesearch/Chapter19"
   ],
   "metadata": {
    "collapsed": false,
    "pycharm": {
     "name": "#%%\n"
    }
   }
  },
  {
   "cell_type": "code",
   "execution_count": null,
   "outputs": [],
   "source": [
    "! python visualize_architecture.py"
   ],
   "metadata": {
    "collapsed": false,
    "pycharm": {
     "name": "#%%\n"
    }
   }
  },
  {
   "cell_type": "code",
   "execution_count": null,
   "outputs": [],
   "source": [
    "ls"
   ],
   "metadata": {
    "collapsed": false,
    "pycharm": {
     "name": "#%%\n"
    }
   }
  },
  {
   "cell_type": "code",
   "execution_count": null,
   "outputs": [],
   "source": [
    "! nvidia-smi"
   ],
   "metadata": {
    "collapsed": false,
    "pycharm": {
     "name": "#%%\n"
    }
   }
  },
  {
   "cell_type": "code",
   "execution_count": null,
   "outputs": [],
   "source": [],
   "metadata": {
    "collapsed": false,
    "pycharm": {
     "name": "#%%\n"
    }
   }
  },
  {
   "cell_type": "code",
   "source": [
    "cd /content/drive/MyDrive/pyimagesearch/Chapter19"
   ],
   "metadata": {
    "colab": {
     "base_uri": "https://localhost:8080/"
    },
    "id": "qKQs7fOeIeyd",
    "executionInfo": {
     "status": "ok",
     "timestamp": 1656752308426,
     "user_tz": -420,
     "elapsed": 12,
     "user": {
      "displayName": "Hoang Bao",
      "userId": "06243142831558434309"
     }
    },
    "outputId": "5648ea4a-447c-47d1-9d81-4779a838a519"
   },
   "execution_count": 3,
   "outputs": [
    {
     "output_type": "stream",
     "name": "stdout",
     "text": [
      "/content/drive/Othercomputers/My Laptop/pyimagesearch/Chapter19\n"
     ]
    }
   ]
  },
  {
   "cell_type": "code",
   "source": [
    "! python visualize_architecture.py"
   ],
   "metadata": {
    "colab": {
     "base_uri": "https://localhost:8080/"
    },
    "id": "xefTcbhBIf0B",
    "executionInfo": {
     "status": "ok",
     "timestamp": 1656752351153,
     "user_tz": -420,
     "elapsed": 6690,
     "user": {
      "displayName": "Hoang Bao",
      "userId": "06243142831558434309"
     }
    },
    "outputId": "00c1fb97-07e5-412b-95e6-81bd8515ccf0"
   },
   "execution_count": 6,
   "outputs": [
    {
     "output_type": "stream",
     "name": "stdout",
     "text": [
      "2022-07-02 08:59:09.399566: E tensorflow/stream_executor/cuda/cuda_driver.cc:271] failed call to cuInit: CUDA_ERROR_NO_DEVICE: no CUDA-capable device is detected\n"
     ]
    }
   ]
  },
  {
   "cell_type": "code",
   "source": [
    "ls"
   ],
   "metadata": {
    "colab": {
     "base_uri": "https://localhost:8080/"
    },
    "id": "OSL6Vxa3Ig-I",
    "executionInfo": {
     "status": "ok",
     "timestamp": 1656752362763,
     "user_tz": -420,
     "elapsed": 15,
     "user": {
      "displayName": "Hoang Bao",
      "userId": "06243142831558434309"
     }
    },
    "outputId": "75d64d31-175e-4c12-aaa4-3fbe369edea7"
   },
   "execution_count": 7,
   "outputs": [
    {
     "output_type": "stream",
     "name": "stdout",
     "text": [
      "__init__.py  lenet.png  run.ipynb  visualize_architecture.py\n"
     ]
    }
   ]
  },
  {
   "cell_type": "code",
   "source": [
    "! nvidia-smi"
   ],
   "metadata": {
    "colab": {
     "base_uri": "https://localhost:8080/"
    },
    "id": "U79gnkr_ItEy",
    "executionInfo": {
     "status": "ok",
     "timestamp": 1656752406465,
     "user_tz": -420,
     "elapsed": 28,
     "user": {
      "displayName": "Hoang Bao",
      "userId": "06243142831558434309"
     }
    },
    "outputId": "e8e6fbf3-6b10-429d-8915-e74919ba6fec"
   },
   "execution_count": 8,
   "outputs": [
    {
     "output_type": "stream",
     "name": "stdout",
     "text": [
      "NVIDIA-SMI has failed because it couldn't communicate with the NVIDIA driver. Make sure that the latest NVIDIA driver is installed and running.\n",
      "\n"
     ]
    }
   ]
  },
  {
   "cell_type": "code",
   "source": [
    ""
   ],
   "metadata": {
    "id": "eFUvshaqI3vc"
   },
   "execution_count": null,
   "outputs": []
  }
 ],
 "metadata": {
  "kernelspec": {
   "display_name": "Python 3",
   "language": "python",
   "name": "python3"
  },
  "language_info": {
   "codemirror_mode": {
    "name": "ipython",
    "version": 2
   },
   "file_extension": ".py",
   "mimetype": "text/x-python",
   "name": "python",
   "nbconvert_exporter": "python",
   "pygments_lexer": "ipython2",
   "version": "2.7.6"
  },
  "colab": {
   "name": "run.ipynb",
   "provenance": []
  }
 },
 "nbformat": 4,
 "nbformat_minor": 0
}